{
  "nbformat": 4,
  "nbformat_minor": 0,
  "metadata": {
    "colab": {
      "name": "API_consulta_cep_Python.ipynb",
      "provenance": [],
      "authorship_tag": "ABX9TyOxT+l74jSzizqFo/bNA2wM",
      "include_colab_link": true
    },
    "kernelspec": {
      "name": "python3",
      "display_name": "Python 3"
    },
    "language_info": {
      "name": "python"
    }
  },
  "cells": [
    {
      "cell_type": "markdown",
      "metadata": {
        "id": "view-in-github",
        "colab_type": "text"
      },
      "source": [
        "<a href=\"https://colab.research.google.com/github/raquelspedroso/Filtros_dataset_python/blob/main/API_consulta_cep_Python.ipynb\" target=\"_parent\"><img src=\"https://colab.research.google.com/assets/colab-badge.svg\" alt=\"Open In Colab\"/></a>"
      ]
    },
    {
      "cell_type": "code",
      "execution_count": 1,
      "metadata": {
        "colab": {
          "base_uri": "https://localhost:8080/"
        },
        "id": "yLcjTw3qhlBf",
        "outputId": "9482ae01-61d3-48b8-fa59-ef7b8bc8bc5e"
      },
      "outputs": [
        {
          "output_type": "stream",
          "name": "stdout",
          "text": [
            "********************\n",
            "** CONSULTAR CEP: **\n",
            "********************\n",
            "\n",
            "Digite o cep: 90220006\n",
            "{'cep': '90220-006', 'logradouro': 'Avenida Farrapos', 'complemento': 'de 2007 a 3503 - lado ímpar', 'bairro': 'São Geraldo', 'localidade': 'Porto Alegre', 'uf': 'RS', 'ibge': '4314902', 'gia': '', 'ddd': '51', 'siafi': '8801'}\n",
            "Cep encontrado: \n",
            "CEP: 90220-006\n",
            "Endereço: Avenida Farrapos\n",
            "Complemento: de 2007 a 3503 - lado ímpar\n",
            "Bairro: São Geraldo\n",
            "Cidade: Porto Alegre\n",
            "Estado: RS\n",
            "Deseja realizar uma nova consulta? \n",
            " 1. Sim \n",
            " 2. não \n",
            "2\n",
            "Consulta finalizada.\n"
          ]
        }
      ],
      "source": [
        "import requests\n",
        "\n",
        "def main():\n",
        "\n",
        "    \n",
        "\n",
        "    cep = input('Digite o cep: ')\n",
        "\n",
        "    if len(cep) !=8:\n",
        "        print('Quantidades de digitos do cep invalida!')\n",
        "        exit()\n",
        "\n",
        "    request = requests.get('https://viacep.com.br/ws/{}/json/'.format(cep))  \n",
        "\n",
        "    print(request.json())\n",
        "\n",
        "    address_data = request.json()\n",
        "\n",
        "    if 'erro' not in address_data:\n",
        "        print('Cep encontrado: ')\n",
        "        \n",
        "        print('CEP: {}'.format(address_data['cep']))\n",
        "        print('Endereço: {}'.format(address_data['logradouro']))\n",
        "        print('Complemento: {}'.format(address_data['complemento']))\n",
        "        print('Bairro: {}'.format(address_data['bairro']))\n",
        "        print('Cidade: {}'.format(address_data['localidade']))\n",
        "        print('Estado: {}'.format(address_data['uf']))\n",
        "\n",
        "    else:\n",
        "        print('{}: Cep Inválido.'.format(cep))\n",
        "\n",
        "    sequencia = int(input('Deseja realizar uma nova consulta? \\n 1. Sim \\n 2. não \\n'))\n",
        "    if sequencia == 1:\n",
        "        main()\n",
        "    else:\n",
        "        print('Consulta finalizada.')    \n",
        "\n",
        "if __name__ == '__main__':\n",
        "    main()    \n",
        "        \n",
        "        "
      ]
    }
  ]
}